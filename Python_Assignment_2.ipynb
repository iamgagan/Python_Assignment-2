{
  "nbformat": 4,
  "nbformat_minor": 0,
  "metadata": {
    "colab": {
      "name": "Python Assignment 2.ipynb",
      "provenance": []
    },
    "kernelspec": {
      "name": "python3",
      "display_name": "Python 3"
    },
    "language_info": {
      "name": "python"
    }
  },
  "cells": [
    {
      "cell_type": "markdown",
      "metadata": {
        "id": "Wrr-kPNw5D7m"
      },
      "source": [
        "1. Create the below pattern using nested for loop in Python.\n",
        "\n",
        "![Screenshot 2021-05-30 at 9.00.09 PM.png](data:image/png;base64,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)"
      ]
    },
    {
      "cell_type": "code",
      "metadata": {
        "colab": {
          "base_uri": "https://localhost:8080/"
        },
        "id": "MRP-CF8o5kxg",
        "outputId": "a9461b4b-5693-4ff0-d11b-93bce1190c2c"
      },
      "source": [
        "for i in range (1,6):\n",
        "  print(\"*\"*i)\n",
        "for j in range (6,0,-1):\n",
        "    print(\"*\"*j)"
      ],
      "execution_count": 55,
      "outputs": [
        {
          "output_type": "stream",
          "text": [
            "*\n",
            "**\n",
            "***\n",
            "****\n",
            "*****\n",
            "******\n",
            "*****\n",
            "****\n",
            "***\n",
            "**\n",
            "*\n"
          ],
          "name": "stdout"
        }
      ]
    },
    {
      "cell_type": "markdown",
      "metadata": {
        "id": "YnLbzS-55Jmz"
      },
      "source": [
        "2. Write a Python program to reverse a word after accepting the input from the user.\n",
        "Sample Output:\n",
        "Input word: ineuron Output: norueni"
      ]
    },
    {
      "cell_type": "code",
      "metadata": {
        "colab": {
          "base_uri": "https://localhost:8080/"
        },
        "id": "KIetUNss5KSv",
        "outputId": "7093492f-c5d8-4f7a-a7ec-5102e64d5cbb"
      },
      "source": [
        "word = str(input())\n",
        "print(f'Original word is {word}')\n",
        "print(f'Reverse word is {word[::-1]}')\n"
      ],
      "execution_count": 56,
      "outputs": [
        {
          "output_type": "stream",
          "text": [
            "ineuron\n",
            "Original word is ineuron\n",
            "Reverse word is norueni\n"
          ],
          "name": "stdout"
        }
      ]
    },
    {
      "cell_type": "code",
      "metadata": {
        "id": "EutG0gbF-qkG"
      },
      "source": [
        ""
      ],
      "execution_count": null,
      "outputs": []
    }
  ]
}